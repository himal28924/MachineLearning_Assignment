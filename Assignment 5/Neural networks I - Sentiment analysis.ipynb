{
 "cells": [
  {
   "cell_type": "markdown",
   "id": "5bc9be56",
   "metadata": {},
   "source": [
    "## Sentiment Analysis"
   ]
  },
  {
   "cell_type": "markdown",
   "id": "818b3b52",
   "metadata": {},
   "source": [
    "In this exercise we use the IMDb-dataset, which we will use to perform a sentiment analysis. The code below assumes that the data is placed in the same folder as this notebook. We see that the reviews are loaded as a pandas dataframe, and print the beginning of the first few reviews."
   ]
  },
  {
   "cell_type": "code",
   "execution_count": 1,
   "id": "9314a9f3",
   "metadata": {
    "ExecuteTime": {
     "end_time": "2024-01-12T10:59:14.978901600Z",
     "start_time": "2024-01-12T10:59:12.919826500Z"
    }
   },
   "outputs": [],
   "source": [
    "import numpy as np\n",
    "import pandas as pd\n",
    "\n",
    "from sklearn.model_selection import train_test_split\n",
    "from sklearn.feature_extraction.text import CountVectorizer\n",
    "\n",
    "import tensorflow as tf\n",
    "from tensorflow.keras.models import Sequential\n",
    "from tensorflow.keras.layers import Dense\n",
    "from tensorflow.keras.optimizers import Adam\n",
    "from tensorflow.keras.layers import Dropout\n",
    "from tensorflow.keras.regularizers import l2\n",
    "\n",
    "from matplotlib import pyplot as plt"
   ]
  },
  {
   "cell_type": "code",
   "execution_count": 2,
   "id": "67da3bc0",
   "metadata": {
    "ExecuteTime": {
     "end_time": "2024-01-12T10:59:15.767177200Z",
     "start_time": "2024-01-12T10:59:15.595527100Z"
    }
   },
   "outputs": [],
   "source": [
    "reviews = pd.read_csv('reviews.txt', header=None, names=[\"review\"])\n",
    "labels = pd.read_csv('labels.txt', header=None, names=[\"label\"])\n",
    "Y = (labels=='positive').astype(np.int_)"
   ]
  },
  {
   "cell_type": "code",
   "execution_count": 3,
   "id": "22839712",
   "metadata": {
    "ExecuteTime": {
     "end_time": "2024-01-12T10:59:16.487190900Z",
     "start_time": "2024-01-12T10:59:16.457405300Z"
    }
   },
   "outputs": [
    {
     "data": {
      "text/plain": "pandas.core.frame.DataFrame"
     },
     "execution_count": 3,
     "metadata": {},
     "output_type": "execute_result"
    }
   ],
   "source": [
    "type(reviews)"
   ]
  },
  {
   "cell_type": "code",
   "execution_count": 4,
   "id": "e75ae5f1",
   "metadata": {
    "ExecuteTime": {
     "end_time": "2024-01-12T10:59:16.875997600Z",
     "start_time": "2024-01-12T10:59:16.847434Z"
    }
   },
   "outputs": [
    {
     "data": {
      "text/plain": "                                              review\n0  bromwell high is a cartoon comedy . it ran at ...\n1  story of a man who has unnatural feelings for ...\n2  homelessness  or houselessness as george carli...\n3  airport    starts as a brand new luxury    pla...\n4  brilliant over  acting by lesley ann warren . ...",
      "text/html": "<div>\n<style scoped>\n    .dataframe tbody tr th:only-of-type {\n        vertical-align: middle;\n    }\n\n    .dataframe tbody tr th {\n        vertical-align: top;\n    }\n\n    .dataframe thead th {\n        text-align: right;\n    }\n</style>\n<table border=\"1\" class=\"dataframe\">\n  <thead>\n    <tr style=\"text-align: right;\">\n      <th></th>\n      <th>review</th>\n    </tr>\n  </thead>\n  <tbody>\n    <tr>\n      <th>0</th>\n      <td>bromwell high is a cartoon comedy . it ran at ...</td>\n    </tr>\n    <tr>\n      <th>1</th>\n      <td>story of a man who has unnatural feelings for ...</td>\n    </tr>\n    <tr>\n      <th>2</th>\n      <td>homelessness  or houselessness as george carli...</td>\n    </tr>\n    <tr>\n      <th>3</th>\n      <td>airport    starts as a brand new luxury    pla...</td>\n    </tr>\n    <tr>\n      <th>4</th>\n      <td>brilliant over  acting by lesley ann warren . ...</td>\n    </tr>\n  </tbody>\n</table>\n</div>"
     },
     "execution_count": 4,
     "metadata": {},
     "output_type": "execute_result"
    }
   ],
   "source": [
    "reviews.head()"
   ]
  },
  {
   "cell_type": "code",
   "execution_count": 5,
   "id": "10aedf69",
   "metadata": {
    "ExecuteTime": {
     "end_time": "2024-01-12T10:59:18.959621100Z",
     "start_time": "2024-01-12T10:59:18.925536900Z"
    }
   },
   "outputs": [
    {
     "data": {
      "text/plain": "   label\n0      1\n1      0\n2      1\n3      0\n4      1",
      "text/html": "<div>\n<style scoped>\n    .dataframe tbody tr th:only-of-type {\n        vertical-align: middle;\n    }\n\n    .dataframe tbody tr th {\n        vertical-align: top;\n    }\n\n    .dataframe thead th {\n        text-align: right;\n    }\n</style>\n<table border=\"1\" class=\"dataframe\">\n  <thead>\n    <tr style=\"text-align: right;\">\n      <th></th>\n      <th>label</th>\n    </tr>\n  </thead>\n  <tbody>\n    <tr>\n      <th>0</th>\n      <td>1</td>\n    </tr>\n    <tr>\n      <th>1</th>\n      <td>0</td>\n    </tr>\n    <tr>\n      <th>2</th>\n      <td>1</td>\n    </tr>\n    <tr>\n      <th>3</th>\n      <td>0</td>\n    </tr>\n    <tr>\n      <th>4</th>\n      <td>1</td>\n    </tr>\n  </tbody>\n</table>\n</div>"
     },
     "execution_count": 5,
     "metadata": {},
     "output_type": "execute_result"
    }
   ],
   "source": [
    "Y.head()"
   ]
  },
  {
   "cell_type": "markdown",
   "id": "4982b946",
   "metadata": {},
   "source": [
    "**(a)** Split the reviews and labels in test, train and validation sets. The train and validation sets will be used to train your model and tune hyperparameters, the test set will be saved for testing. Use the `CountVectorizer` from `sklearn.feature_extraction.text` to create a Bag-of-Words representation of the reviews. Only use the 10,000 most frequent words (use the `max_features`-parameter of `CountVectorizer`)."
   ]
  },
  {
   "cell_type": "code",
   "execution_count": 6,
   "id": "70713ff5",
   "metadata": {
    "ExecuteTime": {
     "end_time": "2024-01-12T11:02:40.007640500Z",
     "start_time": "2024-01-12T11:02:39.985894Z"
    }
   },
   "outputs": [],
   "source": [
    "train_X, test_X, train_y, test_y = train_test_split(reviews, Y, test_size=0.2, random_state=42)\n",
    "test_X, val_X, test_y, val_y= train_test_split(test_X, test_y, test_size=0.25, random_state=42)"
   ]
  },
  {
   "cell_type": "code",
   "execution_count": 7,
   "id": "dae32e53",
   "metadata": {
    "ExecuteTime": {
     "end_time": "2024-01-12T11:02:40.541753500Z",
     "start_time": "2024-01-12T11:02:40.518577200Z"
    }
   },
   "outputs": [
    {
     "data": {
      "text/plain": "                                                  review\n23311  the idea of making a miniseries about the berl...\n23623  mona the vagabond lives on the fringes of fren...\n1020   lillian hellman  one of america  s most famous...\n12645  let me be clear . i  ve used imdb for years . ...\n1533   i guess its possible that i  ve seen worse mov...\n...                                                  ...\n21575  it is a pity that you cannot vote zero stars o...\n5390   david duchovney creates a role that he was to ...\n860    i  m a huge fan of the dukes of hazzard tv sho...\n15795  turkish cinema has a big problem . directors a...\n23654  in any number of films  you can find nicholas ...\n\n[20000 rows x 1 columns]",
      "text/html": "<div>\n<style scoped>\n    .dataframe tbody tr th:only-of-type {\n        vertical-align: middle;\n    }\n\n    .dataframe tbody tr th {\n        vertical-align: top;\n    }\n\n    .dataframe thead th {\n        text-align: right;\n    }\n</style>\n<table border=\"1\" class=\"dataframe\">\n  <thead>\n    <tr style=\"text-align: right;\">\n      <th></th>\n      <th>review</th>\n    </tr>\n  </thead>\n  <tbody>\n    <tr>\n      <th>23311</th>\n      <td>the idea of making a miniseries about the berl...</td>\n    </tr>\n    <tr>\n      <th>23623</th>\n      <td>mona the vagabond lives on the fringes of fren...</td>\n    </tr>\n    <tr>\n      <th>1020</th>\n      <td>lillian hellman  one of america  s most famous...</td>\n    </tr>\n    <tr>\n      <th>12645</th>\n      <td>let me be clear . i  ve used imdb for years . ...</td>\n    </tr>\n    <tr>\n      <th>1533</th>\n      <td>i guess its possible that i  ve seen worse mov...</td>\n    </tr>\n    <tr>\n      <th>...</th>\n      <td>...</td>\n    </tr>\n    <tr>\n      <th>21575</th>\n      <td>it is a pity that you cannot vote zero stars o...</td>\n    </tr>\n    <tr>\n      <th>5390</th>\n      <td>david duchovney creates a role that he was to ...</td>\n    </tr>\n    <tr>\n      <th>860</th>\n      <td>i  m a huge fan of the dukes of hazzard tv sho...</td>\n    </tr>\n    <tr>\n      <th>15795</th>\n      <td>turkish cinema has a big problem . directors a...</td>\n    </tr>\n    <tr>\n      <th>23654</th>\n      <td>in any number of films  you can find nicholas ...</td>\n    </tr>\n  </tbody>\n</table>\n<p>20000 rows × 1 columns</p>\n</div>"
     },
     "execution_count": 7,
     "metadata": {},
     "output_type": "execute_result"
    }
   ],
   "source": [
    "train_X"
   ]
  },
  {
   "cell_type": "code",
   "execution_count": 8,
   "id": "007d3ae1",
   "metadata": {
    "ExecuteTime": {
     "end_time": "2024-01-12T11:02:41.542879900Z",
     "start_time": "2024-01-12T11:02:41.521691300Z"
    }
   },
   "outputs": [
    {
     "data": {
      "text/plain": "       label\n23311      0\n23623      0\n1020       1\n12645      0\n1533       0\n...      ...\n21575      0\n5390       1\n860        1\n15795      0\n23654      1\n\n[20000 rows x 1 columns]",
      "text/html": "<div>\n<style scoped>\n    .dataframe tbody tr th:only-of-type {\n        vertical-align: middle;\n    }\n\n    .dataframe tbody tr th {\n        vertical-align: top;\n    }\n\n    .dataframe thead th {\n        text-align: right;\n    }\n</style>\n<table border=\"1\" class=\"dataframe\">\n  <thead>\n    <tr style=\"text-align: right;\">\n      <th></th>\n      <th>label</th>\n    </tr>\n  </thead>\n  <tbody>\n    <tr>\n      <th>23311</th>\n      <td>0</td>\n    </tr>\n    <tr>\n      <th>23623</th>\n      <td>0</td>\n    </tr>\n    <tr>\n      <th>1020</th>\n      <td>1</td>\n    </tr>\n    <tr>\n      <th>12645</th>\n      <td>0</td>\n    </tr>\n    <tr>\n      <th>1533</th>\n      <td>0</td>\n    </tr>\n    <tr>\n      <th>...</th>\n      <td>...</td>\n    </tr>\n    <tr>\n      <th>21575</th>\n      <td>0</td>\n    </tr>\n    <tr>\n      <th>5390</th>\n      <td>1</td>\n    </tr>\n    <tr>\n      <th>860</th>\n      <td>1</td>\n    </tr>\n    <tr>\n      <th>15795</th>\n      <td>0</td>\n    </tr>\n    <tr>\n      <th>23654</th>\n      <td>1</td>\n    </tr>\n  </tbody>\n</table>\n<p>20000 rows × 1 columns</p>\n</div>"
     },
     "execution_count": 8,
     "metadata": {},
     "output_type": "execute_result"
    }
   ],
   "source": [
    "train_y"
   ]
  },
  {
   "cell_type": "markdown",
   "source": [
    "Converts text to a matrix of token counts"
   ],
   "metadata": {
    "collapsed": false
   },
   "id": "2fbcdb7c59113084"
  },
  {
   "cell_type": "code",
   "execution_count": 9,
   "id": "0c6e6df8",
   "metadata": {
    "ExecuteTime": {
     "end_time": "2024-01-12T11:02:50.851264800Z",
     "start_time": "2024-01-12T11:02:48.774050100Z"
    }
   },
   "outputs": [],
   "source": [
    "max_tokens = 10000\n",
    "vectorizer = CountVectorizer(max_features=max_tokens)\n",
    "\n",
    "## Also look into min_df and max_df ##\n",
    "\n",
    "train_features = vectorizer.fit_transform(train_X[\"review\"]).toarray()\n",
    "val_features = vectorizer.transform(val_X[\"review\"]).toarray()\n",
    "test_features = vectorizer.transform(test_X[\"review\"]).toarray()"
   ]
  },
  {
   "cell_type": "markdown",
   "id": "ebf07ee9",
   "metadata": {},
   "source": [
    "**(b)** Explore the representation of the reviews. How is a single word represented? How about a whole review?"
   ]
  },
  {
   "cell_type": "code",
   "execution_count": 10,
   "id": "064e72b7",
   "metadata": {
    "ExecuteTime": {
     "end_time": "2024-01-12T11:03:06.691246700Z",
     "start_time": "2024-01-12T11:03:06.650766Z"
    }
   },
   "outputs": [
    {
     "name": "stdout",
     "output_type": "stream",
     "text": [
      "Vocabulary: ['food' 'good' 'is' 'overall' 'restaurant' 'tastes' 'usually' 'was']\n",
      "Features: \n",
      " [[1 1 0 0 0 0 0 1]\n",
      " [1 1 0 0 0 1 1 0]\n",
      " [0 1 1 1 1 0 0 0]]\n"
     ]
    }
   ],
   "source": [
    "# Showing the concepts\n",
    "\n",
    "texts = [\"Food was good.\", \"Food tastes usually good.\", \"Overall restaurant is good.\"]\n",
    "\n",
    "simple_vectorizer = CountVectorizer()\n",
    "X_texts = simple_vectorizer.fit_transform(texts)\n",
    "X_array = X_texts.toarray()\n",
    "\n",
    "# Print words in the vocabulary\n",
    "print(\"Vocabulary:\", simple_vectorizer.get_feature_names_out())\n",
    "\n",
    "# Print the transformed features (word counts for each document)\n",
    "print(\"Features: \\n\", X_array)"
   ]
  },
  {
   "cell_type": "code",
   "execution_count": 11,
   "id": "1c981816",
   "metadata": {
    "ExecuteTime": {
     "end_time": "2024-01-12T11:03:07.898991Z",
     "start_time": "2024-01-12T11:03:07.886693200Z"
    }
   },
   "outputs": [
    {
     "data": {
      "text/plain": "array([[1, 0, 0, 0, 0, 0, 0, 0]], dtype=int64)"
     },
     "execution_count": 11,
     "metadata": {},
     "output_type": "execute_result"
    }
   ],
   "source": [
    "# Word represntation\n",
    "\n",
    "simple_vectorizer.transform([\"food\"]).toarray()"
   ]
  },
  {
   "cell_type": "code",
   "execution_count": 12,
   "id": "e86c8401",
   "metadata": {
    "ExecuteTime": {
     "end_time": "2024-01-12T11:03:12.652162400Z",
     "start_time": "2024-01-12T11:03:12.629758100Z"
    }
   },
   "outputs": [
    {
     "data": {
      "text/plain": "array([[1, 1, 0, 0, 0, 0, 0, 1]], dtype=int64)"
     },
     "execution_count": 12,
     "metadata": {},
     "output_type": "execute_result"
    }
   ],
   "source": [
    "# Sentence representation\n",
    "\n",
    "simple_vectorizer.transform([\"Food was good.\"]).toarray()"
   ]
  },
  {
   "cell_type": "markdown",
   "id": "c2638fce",
   "metadata": {},
   "source": [
    "**(c)** Train a neural network with a single hidden layer on the dataset, tuning the relevant hyperparameters to optimize accuracy. "
   ]
  },
  {
   "cell_type": "markdown",
   "id": "1fd327a6",
   "metadata": {},
   "source": [
    "**(d)** Test your sentiment-classifier on the test set."
   ]
  },
  {
   "cell_type": "markdown",
   "id": "fd44ee62",
   "metadata": {},
   "source": [
    "**(e)** Use the classifier to classify a few sentences you write yourselves. "
   ]
  },
  {
   "cell_type": "code",
   "execution_count": 13,
   "metadata": {
    "ExecuteTime": {
     "end_time": "2024-01-12T11:06:57.718247900Z",
     "start_time": "2024-01-12T11:06:57.665302200Z"
    }
   },
   "outputs": [],
   "source": [
    "model = Sequential()\n",
    "model.add(Dense(128, input_shape=(train_features.shape[1],), activation='relu',  kernel_regularizer=l2(0.01)))\n",
    "model.add(Dropout(0.5))  # Add dropout with a rate of 0.5\n",
    "model.add(Dense(1, activation='sigmoid'))"
   ],
   "id": "d31056670989e663"
  },
  {
   "cell_type": "code",
   "execution_count": 14,
   "metadata": {
    "ExecuteTime": {
     "end_time": "2024-01-12T11:06:58.408188800Z",
     "start_time": "2024-01-12T11:06:58.386715400Z"
    }
   },
   "outputs": [],
   "source": [
    "model.compile(optimizer=Adam(learning_rate=0.001), loss='binary_crossentropy', metrics=['accuracy'])"
   ],
   "id": "d516d728ee57280f"
  },
  {
   "cell_type": "code",
   "execution_count": 15,
   "metadata": {
    "ExecuteTime": {
     "end_time": "2024-01-12T11:06:59.134639300Z",
     "start_time": "2024-01-12T11:06:59.087822700Z"
    }
   },
   "outputs": [
    {
     "name": "stdout",
     "output_type": "stream",
     "text": [
      "Model: \"sequential\"\n",
      "_________________________________________________________________\n",
      " Layer (type)                Output Shape              Param #   \n",
      "=================================================================\n",
      " dense (Dense)               (None, 128)               1280128   \n",
      "                                                                 \n",
      " dropout (Dropout)           (None, 128)               0         \n",
      "                                                                 \n",
      " dense_1 (Dense)             (None, 1)                 129       \n",
      "                                                                 \n",
      "=================================================================\n",
      "Total params: 1280257 (4.88 MB)\n",
      "Trainable params: 1280257 (4.88 MB)\n",
      "Non-trainable params: 0 (0.00 Byte)\n",
      "_________________________________________________________________\n"
     ]
    }
   ],
   "source": [
    "model.summary()"
   ],
   "id": "ec17d67b05b91459"
  },
  {
   "cell_type": "code",
   "execution_count": 16,
   "metadata": {
    "ExecuteTime": {
     "end_time": "2024-01-12T11:08:19.587528900Z",
     "start_time": "2024-01-12T11:07:24.533887100Z"
    }
   },
   "outputs": [
    {
     "name": "stdout",
     "output_type": "stream",
     "text": [
      "Epoch 1/5\n",
      "1250/1250 [==============================] - 11s 9ms/step - loss: 0.7357 - accuracy: 0.8132 - val_loss: 0.6869 - val_accuracy: 0.8304\n",
      "Epoch 2/5\n",
      "1250/1250 [==============================] - 11s 9ms/step - loss: 0.6926 - accuracy: 0.8260 - val_loss: 0.6833 - val_accuracy: 0.8240\n",
      "Epoch 3/5\n",
      "1250/1250 [==============================] - 11s 9ms/step - loss: 0.6929 - accuracy: 0.8262 - val_loss: 0.6622 - val_accuracy: 0.8312\n",
      "Epoch 4/5\n",
      "1250/1250 [==============================] - 11s 9ms/step - loss: 0.6872 - accuracy: 0.8294 - val_loss: 0.6675 - val_accuracy: 0.8336\n",
      "Epoch 5/5\n",
      "1250/1250 [==============================] - 11s 9ms/step - loss: 0.6784 - accuracy: 0.8278 - val_loss: 0.6692 - val_accuracy: 0.8560\n"
     ]
    }
   ],
   "source": [
    "history = model.fit(train_features, train_y[\"label\"], epochs=5, batch_size=16, validation_data=(val_features, val_y[\"label\"]))"
   ],
   "id": "833cd8ca9fed7537"
  },
  {
   "cell_type": "code",
   "execution_count": 17,
   "metadata": {
    "ExecuteTime": {
     "end_time": "2024-01-12T11:08:28.838476400Z",
     "start_time": "2024-01-12T11:08:28.748987100Z"
    }
   },
   "outputs": [
    {
     "data": {
      "text/plain": "<Figure size 640x480 with 1 Axes>",
      "image/png": "[encoded data removed]"
     },
     "metadata": {},
     "output_type": "display_data"
    }
   ],
   "source": [
    "plt.plot(history.history['accuracy'], label='Train Accuracy')\n",
    "plt.plot(history.history['val_accuracy'], label='Validation Accuracy')\n",
    "plt.xlabel('Epoch')\n",
    "plt.ylabel('Accuracy')\n",
    "plt.legend()\n",
    "plt.show()"
   ],
   "id": "e03c4a28c9816fd2"
  },
  {
   "cell_type": "code",
   "execution_count": 18,
   "metadata": {
    "ExecuteTime": {
     "end_time": "2024-01-12T11:13:21.912732200Z",
     "start_time": "2024-01-12T11:13:21.825906500Z"
    }
   },
   "outputs": [
    {
     "data": {
      "text/plain": "<Figure size 640x480 with 1 Axes>",
      "image/png": "[encoded data removed]"
     },
     "metadata": {},
     "output_type": "display_data"
    }
   ],
   "source": [
    "train_loss = history.history['loss']\n",
    "val_loss = history.history['val_loss']\n",
    "\n",
    "# Plot the training loss and validation loss\n",
    "plt.plot(range(1, len(train_loss) + 1), train_loss, label='Train Loss')\n",
    "plt.plot(range(1, len(val_loss) + 1), val_loss, label='Validation Loss')\n",
    "plt.xlabel('Epoch')\n",
    "plt.ylabel('Loss')\n",
    "plt.legend()\n",
    "plt.show()"
   ],
   "id": "a301a1fc50b826da"
  },
  {
   "cell_type": "code",
   "execution_count": 19,
   "metadata": {
    "ExecuteTime": {
     "end_time": "2024-01-12T11:21:18.379344300Z",
     "start_time": "2024-01-12T11:21:18.001167600Z"
    }
   },
   "outputs": [
    {
     "name": "stdout",
     "output_type": "stream",
     "text": [
      "118/118 [==============================] - 0s 2ms/step - loss: 0.6424 - accuracy: 0.8616\n",
      "Test Accuracy: 86.16%\n"
     ]
    }
   ],
   "source": [
    "# Evaluate the model on the test set\n",
    "loss, accuracy = model.evaluate(test_features, test_y)\n",
    "print(f'Test Accuracy: {accuracy * 100:.2f}%')"
   ],
   "id": "1ce193e3f5eb93cc"
  },
  {
   "cell_type": "code",
   "execution_count": null,
   "metadata": {
    "ExecuteTime": {
     "start_time": "2024-01-12T09:33:50.701649Z"
    }
   },
   "outputs": [],
   "source": [],
   "id": "d0ff5b6e9c6fa571"
  }
 ],
 "metadata": {
  "kernelspec": {
   "display_name": "Python 3 (ipykernel)",
   "language": "python",
   "name": "python3"
  },
  "language_info": {
   "codemirror_mode": {
    "name": "ipython",
    "version": 3
   },
   "file_extension": ".py",
   "mimetype": "text/x-python",
   "name": "python",
   "nbconvert_exporter": "python",
   "pygments_lexer": "ipython3",
   "version": "3.10.12"
  }
 },
 "nbformat": 4,
 "nbformat_minor": 5
}
